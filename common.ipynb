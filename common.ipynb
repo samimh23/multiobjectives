{
 "cells": [
  {
   "cell_type": "code",
   "execution_count": 1,
   "id": "a52a8a6b-88ad-462d-81f3-60f95e883d2b",
   "metadata": {},
   "outputs": [],
   "source": [
    "\"\"\"\n",
    "Common data structures and types for MOKP solver\n",
    "\"\"\"\n",
    "import numpy as np\n",
    "from typing import List, Optional\n",
    "\n",
    "class Individual:\n",
    "    \"\"\"Represents a solution individual\"\"\"\n",
    "    def __init__(self, nf: int, ni: int):\n",
    "        self.nombr_nonpris = 0\n",
    "        self.nombr = 0\n",
    "        self.rank = 0\n",
    "        self.fitnessbest = -1.0\n",
    "        self.fitness = -1.0\n",
    "        self.explored = 0\n",
    "        self.f = np.zeros(nf, dtype=float)  # objectives\n",
    "        self.capa = np.zeros(nf, dtype=float)  # capacities used\n",
    "        self.v = np.zeros(nf, dtype=float)  # weighted objectives\n",
    "        self.d = np.zeros(ni, dtype=int)  # permutation\n",
    "        self.Items = np.zeros(ni, dtype=int)  # binary selection\n",
    "\n",
    "class Population:\n",
    "    \"\"\"Population of individuals\"\"\"\n",
    "    def __init__(self, maxsize: int, nf: int):\n",
    "        self.size = 0\n",
    "        self.maxsize = maxsize\n",
    "        self.ind_array: List[Optional[Individual]] = [None] * maxsize\n",
    "\n",
    "class Range:\n",
    "    \"\"\"Range for bounds\"\"\"\n",
    "    def __init__(self, min_val: float = 0.0, max_val: float = 1.0):\n",
    "        self.min = min_val\n",
    "        self.max = max_val"
   ]
  },
  {
   "cell_type": "code",
   "execution_count": null,
   "id": "0854bea6-39cb-4416-9e8f-f700a84673cd",
   "metadata": {},
   "outputs": [],
   "source": []
  }
 ],
 "metadata": {
  "kernelspec": {
   "display_name": "Python 3 (ipykernel)",
   "language": "python",
   "name": "python3"
  },
  "language_info": {
   "codemirror_mode": {
    "name": "ipython",
    "version": 3
   },
   "file_extension": ".py",
   "mimetype": "text/x-python",
   "name": "python",
   "nbconvert_exporter": "python",
   "pygments_lexer": "ipython3",
   "version": "3.9.13"
  }
 },
 "nbformat": 4,
 "nbformat_minor": 5
}
